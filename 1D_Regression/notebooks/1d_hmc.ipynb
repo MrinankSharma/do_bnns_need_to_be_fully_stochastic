{
 "cells": [
  {
   "cell_type": "code",
   "execution_count": 11,
   "id": "ad0d4b27-d934-430a-a77c-4f38850a9a5b",
   "metadata": {},
   "outputs": [
    {
     "name": "stdout",
     "output_type": "stream",
     "text": [
      "The autoreload extension is already loaded. To reload it, use:\n",
      "  %reload_ext autoreload\n"
     ]
    }
   ],
   "source": [
    "%load_ext autoreload\n",
    "%autoreload 2"
   ]
  },
  {
   "cell_type": "code",
   "execution_count": 12,
   "id": "be5d3aea-ca3f-46d8-9790-13bae4cbcf6b",
   "metadata": {},
   "outputs": [],
   "source": [
    "import sys\n",
    "sys.path.append(\"../\")"
   ]
  },
  {
   "cell_type": "code",
   "execution_count": 13,
   "id": "d24c310d-f878-4cb3-a4ee-05d36ec3a73f",
   "metadata": {},
   "outputs": [],
   "source": [
    "import numpyro\n",
    "import numpyro.distributions as dist\n",
    "from numpyro.infer import MCMC, NUTS, Predictive\n",
    "numpyro.set_host_device_count(8)\n",
    "\n",
    "import jax\n",
    "import jax.numpy as jnp\n",
    "import jax.nn\n",
    "from jax import random\n",
    "\n",
    "from src.datamodules.toy_regression_datamodules import ToyRegressionDDataModule\n",
    "import matplotlib.pyplot as plt\n",
    "import seaborn as sns"
   ]
  },
  {
   "cell_type": "markdown",
   "id": "ad0273d3-b7ae-4d58-a19a-4ca84d14f2b5",
   "metadata": {},
   "source": [
    "# Load Data"
   ]
  },
  {
   "cell_type": "code",
   "execution_count": 14,
   "id": "8cd56009-b7b5-4f3a-a830-c336c77068ba",
   "metadata": {},
   "outputs": [],
   "source": [
    "dm = ToyRegressionDDataModule()"
   ]
  },
  {
   "cell_type": "code",
   "execution_count": 15,
   "id": "dd36942e-6372-4b3a-be54-ff73782f6133",
   "metadata": {},
   "outputs": [],
   "source": [
    "X = dm.train_dataloader().dataset.X\n",
    "y = dm.train_dataloader().dataset.Y"
   ]
  },
  {
   "cell_type": "markdown",
   "id": "9e8df597-93a2-48b5-be6b-d7141ec07179",
   "metadata": {},
   "source": [
    "# Load MAP"
   ]
  },
  {
   "cell_type": "code",
   "execution_count": 19,
   "id": "cc047350-b2f4-4fe5-8ab9-fdb13cb29b54",
   "metadata": {},
   "outputs": [],
   "source": [
    "import pickle"
   ]
  },
  {
   "cell_type": "code",
   "execution_count": 20,
   "id": "89e8f840-b7d5-4a61-adff-78596766280a",
   "metadata": {},
   "outputs": [],
   "source": [
    "MAP_params = pickle.load(open(\"map_silu50.pkl\", \"rb\"))"
   ]
  },
  {
   "cell_type": "code",
   "execution_count": 21,
   "id": "d1c5e2f7-dfb5-4c6a-8a16-7444e4eae7b8",
   "metadata": {},
   "outputs": [],
   "source": [
    "def det_bnn(X, MAP_params, width=50):\n",
    "    nB, _ = X.shape\n",
    "    \n",
    "    W_1 = MAP_params[\"W1\"].T\n",
    "    b_1 = MAP_params[\"b1\"]\n",
    "    W_2 = MAP_params[\"W2\"].T\n",
    "    b_2 = MAP_params[\"b2\"]\n",
    "    W_3 = MAP_params[\"W3\"].T\n",
    "    b_3 = MAP_params[\"b3\"]\n",
    "    W_output = MAP_params[\"W_output\"].T\n",
    "    b_output = MAP_params[\"b_output\"]\n",
    "    \n",
    "    z1 = X @ W_1 + b_1.reshape((1, width)).repeat(nB, axis=0)\n",
    "    h1 = jax.nn.silu(z1)\n",
    "\n",
    "    z2 = h1 @ W_2 + b_2.reshape((1, width)).repeat(nB, axis=0)\n",
    "    h2 = jax.nn.silu(z2)\n",
    "\n",
    "    z3 = h2 @ W_3 + b_3.reshape((1, width)).repeat(nB, axis=0)\n",
    "    h3 = jax.nn.silu(z3)\n",
    "    \n",
    "    output = h3 @ W_output + b_output\n",
    "    return output"
   ]
  },
  {
   "cell_type": "markdown",
   "id": "30f4bc1e-a29d-4809-a136-c8d351270136",
   "metadata": {},
   "source": [
    "# subset HMC"
   ]
  },
  {
   "cell_type": "code",
   "execution_count": 22,
   "id": "68c79951-3ec8-43fd-ab62-2cff6277ab47",
   "metadata": {},
   "outputs": [],
   "source": [
    "def generate_mixed_bnn(MAP_params, sample_mask, rescale_prior = False):\n",
    "    if not sample_mask:\n",
    "        sample_mask = [True, True, True, True]\n",
    "    \n",
    "    num_params = [100, 2550, 2550, 51]\n",
    "    \n",
    "    sampled_params = 0\n",
    "    for s, n in zip(sample_mask, num_params):\n",
    "        if s:\n",
    "            sampled_params += n \n",
    "    \n",
    "    if not rescale_prior:\n",
    "        prior_scale = 1.0\n",
    "    else:\n",
    "        prior_scale = jnp.sqrt((5251/sampled_params))\n",
    "    \n",
    "    print(f\"Using prior scale {prior_scale}\")\n",
    "\n",
    "    def mixed_bnn(X, y=None, width=50, output_noise_scale=0.05):\n",
    "        nB, _ = X.shape\n",
    "\n",
    "        if sample_mask[0]:\n",
    "            W_1 = numpyro.sample(\"W1\", dist.Normal(0, prior_scale * jnp.ones((1, width))))\n",
    "            b_1 = numpyro.sample(\"b1\", dist.Normal(0, prior_scale * jnp.ones((width))))\n",
    "        else:\n",
    "            W_1 = MAP_params[\"W1\"].T\n",
    "            b_1 = MAP_params[\"b1\"]\n",
    "\n",
    "        if sample_mask[1]:\n",
    "            W_2 = numpyro.sample(\"W2\", dist.Normal(0, prior_scale * jnp.ones((width, width))))\n",
    "            b_2 = numpyro.sample(\"b2\", dist.Normal(0, prior_scale * jnp.ones((width))))\n",
    "        else:\n",
    "            W_2 = MAP_params[\"W2\"].T * (width ** 0.5)\n",
    "            b_2 = MAP_params[\"b2\"]\n",
    "\n",
    "        if sample_mask[2]:\n",
    "            W_3 = numpyro.sample(\"W3\", dist.Normal(0, prior_scale * jnp.ones((width, width))))\n",
    "            b_3 = numpyro.sample(\"b3\", dist.Normal(0, prior_scale * jnp.ones((width))))\n",
    "        else:\n",
    "            W_3 = MAP_params[\"W3\"].T * (width ** 0.5)\n",
    "            b_3 = MAP_params[\"b3\"]\n",
    "\n",
    "        if sample_mask[3]:\n",
    "            W_output = numpyro.sample(\"W_output\", dist.Normal(0, prior_scale * jnp.ones((width, 1))))\n",
    "            b_output = numpyro.sample(\"b_output\", dist.Normal(0, prior_scale * 1))\n",
    "        else:\n",
    "            W_output = MAP_params[\"W_output\"].T * (width ** 0.5)\n",
    "            b_output = MAP_params[\"b_output\"]\n",
    "\n",
    "        z1 = X @ W_1 + b_1.reshape((1, width)).repeat(nB, axis=0)\n",
    "        h1 = jax.nn.silu(z1)\n",
    "\n",
    "        z2 = (h1 @ W_2)/(width**0.5) + b_2.reshape((1, width)).repeat(nB, axis=0)\n",
    "        h2 = jax.nn.silu(z2)\n",
    "\n",
    "        z3 = (h2 @ W_3)/(width**0.5) + b_3.reshape((1, width)).repeat(nB, axis=0)\n",
    "        h3 = jax.nn.silu(z3)\n",
    "\n",
    "        output = numpyro.deterministic(\"output\", (h3 @ W_output)/(width**0.5) + b_output)\n",
    "        y_obs = numpyro.sample(\"y_obs\", dist.Normal(output, output_noise_scale), obs=y)\n",
    "    \n",
    "    return mixed_bnn"
   ]
  },
  {
   "cell_type": "code",
   "execution_count": null,
   "id": "dd3807bc-1ae6-45f5-a710-5f8b613c6f3c",
   "metadata": {
    "tags": []
   },
   "outputs": [],
   "source": [
    "for flags in list(itertools.product(*[[False, True] for i in range(4)])):\n",
    "    if all([f == False for f in flags]):\n",
    "        continue\n",
    "    \n",
    "    print(f\"Generating mixed bnn with flags {flags}\")\n",
    "    mixed_bnn = generate_mixed_bnn(MAP_params, flags, rescale_prior=True)\n",
    "\n",
    "    nuts_kernel = NUTS(mixed_bnn, max_tree_depth=15)\n",
    "    mcmc = MCMC(nuts_kernel, num_warmup=1000, num_samples=500, num_chains=8)\n",
    "    rng_key = random.PRNGKey(0)\n",
    "\n",
    "    mcmc.run(rng_key, X, y)\n",
    "    \n",
    "    name_str = \",\".join(\n",
    "    [\"Stoc\" if f else \"Det\" for f in flags]\n",
    "    )\n",
    "    fname = f\"{name_str}.pkl\"\n",
    "    \n",
    "    pickle.dump(mcmc.get_samples(), open(fname, \"wb\"))"
   ]
  },
  {
   "cell_type": "markdown",
   "id": "c8d401c3-5559-4fcc-a4e2-c15461793bcb",
   "metadata": {},
   "source": [
    "# analyse rescale prior results"
   ]
  },
  {
   "cell_type": "code",
   "execution_count": 23,
   "id": "55810779-8195-4df8-93dd-72c6b04994d6",
   "metadata": {},
   "outputs": [],
   "source": [
    "rng_key = random.PRNGKey(0)"
   ]
  },
  {
   "cell_type": "markdown",
   "id": "817b4244-a27e-4481-8c5b-a44faa57997f",
   "metadata": {},
   "source": [
    "# Intro plot"
   ]
  },
  {
   "cell_type": "code",
   "execution_count": 24,
   "id": "d9cfcb29-d1ee-48d8-801b-21ad97ba0352",
   "metadata": {},
   "outputs": [
    {
     "name": "stdout",
     "output_type": "stream",
     "text": [
      "Using prior scale 1.4349968433380127\n"
     ]
    },
    {
     "ename": "FileNotFoundError",
     "evalue": "[Errno 2] No such file or directory: 'Det,Stoc,Det,Det.pkl'",
     "output_type": "error",
     "traceback": [
      "\u001b[0;31m---------------------------------------------------------------------------\u001b[0m",
      "\u001b[0;31mFileNotFoundError\u001b[0m                         Traceback (most recent call last)",
      "Input \u001b[0;32mIn [24]\u001b[0m, in \u001b[0;36m<module>\u001b[0;34m\u001b[0m\n\u001b[1;32m     34\u001b[0m name_str \u001b[38;5;241m=\u001b[39m \u001b[38;5;124m\"\u001b[39m\u001b[38;5;124m,\u001b[39m\u001b[38;5;124m\"\u001b[39m\u001b[38;5;241m.\u001b[39mjoin(\n\u001b[1;32m     35\u001b[0m [\u001b[38;5;124m\"\u001b[39m\u001b[38;5;124mStoc\u001b[39m\u001b[38;5;124m\"\u001b[39m \u001b[38;5;28;01mif\u001b[39;00m f \u001b[38;5;28;01melse\u001b[39;00m \u001b[38;5;124m\"\u001b[39m\u001b[38;5;124mDet\u001b[39m\u001b[38;5;124m\"\u001b[39m \u001b[38;5;28;01mfor\u001b[39;00m f \u001b[38;5;129;01min\u001b[39;00m flags]\n\u001b[1;32m     36\u001b[0m )\n\u001b[1;32m     37\u001b[0m fname \u001b[38;5;241m=\u001b[39m \u001b[38;5;124mf\u001b[39m\u001b[38;5;124m\"\u001b[39m\u001b[38;5;132;01m{\u001b[39;00mname_str\u001b[38;5;132;01m}\u001b[39;00m\u001b[38;5;124m.pkl\u001b[39m\u001b[38;5;124m\"\u001b[39m\n\u001b[0;32m---> 39\u001b[0m mcmc_samples \u001b[38;5;241m=\u001b[39m pickle\u001b[38;5;241m.\u001b[39mload(\u001b[38;5;28;43mopen\u001b[39;49m\u001b[43m(\u001b[49m\u001b[43mfname\u001b[49m\u001b[43m,\u001b[49m\u001b[43m \u001b[49m\u001b[38;5;124;43m\"\u001b[39;49m\u001b[38;5;124;43mrb\u001b[39;49m\u001b[38;5;124;43m\"\u001b[39;49m\u001b[43m)\u001b[49m)\n\u001b[1;32m     42\u001b[0m X_pred \u001b[38;5;241m=\u001b[39m jnp\u001b[38;5;241m.\u001b[39mlinspace(\u001b[38;5;241m-\u001b[39m\u001b[38;5;241m6\u001b[39m, \u001b[38;5;241m6\u001b[39m, n_grid)\n\u001b[1;32m     43\u001b[0m predictive \u001b[38;5;241m=\u001b[39m Predictive(mixed_bnn, mcmc_samples)\n",
      "\u001b[0;31mFileNotFoundError\u001b[0m: [Errno 2] No such file or directory: 'Det,Stoc,Det,Det.pkl'"
     ]
    },
    {
     "data": {
      "image/png": "[encoded data removed]",
      "text/plain": [
       "<Figure size 1750x750 with 1 Axes>"
      ]
     },
     "metadata": {
      "needs_background": "light"
     },
     "output_type": "display_data"
    }
   ],
   "source": [
    "plt.figure(figsize=(3.5, 1.5), dpi=500)\n",
    "plt.rcParams[\"font.family\"] = \"Times New Roman\"\n",
    "import seaborn as sns\n",
    "colors = sns.color_palette(\"colorblind\")\n",
    "\n",
    "configs = [\n",
    "    # ([False, False, False, False], \"Deterministic Network\", \"<10s\"),\n",
    "    # ([False, False, False, True], \"Output layer (51)\", \"7s\"),\n",
    "    # ([True, False, False, False], \"Input layer (100)\", \"837s\"),\n",
    "    # ([False, False, True, False], \"Second hidden layer (2550)\", \"89s\"),\n",
    "    ([False, True, False, False], \"(a) HMC on First Hidden Layer\", \"122s\"),\n",
    "    # ([False, False, True, True], \"Last two layers (2601)\", \"151s\"),\n",
    "    ([True, True, True, True], \"(b) HMC on All Layers\", \"897s\")\n",
    "]\n",
    "\n",
    "n_grid = 50\n",
    "\n",
    "for f_i, config in enumerate(configs):\n",
    "    flags, title, runtime_str = config\n",
    "    plt.subplot(1, len(configs), f_i+1)\n",
    "    label_str = f\"Runtime: {runtime_str}\"\n",
    "    if all([f == False for f in flags]):\n",
    "        X_pred = jnp.linspace(-6, 6, 300)\n",
    "        X_pred = X_pred.reshape((300, 1))\n",
    "\n",
    "        y_pred = det_bnn(X_pred, MAP_params)\n",
    "        plt.plot(X_pred, y_pred, color=\"dimgray\", zorder=1, label=label_str, linewidth=1)\n",
    "        plt.scatter(X, y, color=colors[-3], s=5, marker='.', zorder=2)\n",
    "        plt.title(\"MAP\", fontsize=6)\n",
    "        \n",
    "    else:\n",
    "        mixed_bnn = generate_mixed_bnn(MAP_params, flags, rescale_prior=True)\n",
    "\n",
    "        name_str = \",\".join(\n",
    "        [\"Stoc\" if f else \"Det\" for f in flags]\n",
    "        )\n",
    "        fname = f\"{name_str}.pkl\"\n",
    "\n",
    "        mcmc_samples = pickle.load(open(fname, \"rb\"))\n",
    "        \n",
    "\n",
    "        X_pred = jnp.linspace(-6, 6, n_grid)\n",
    "        predictive = Predictive(mixed_bnn, mcmc_samples)\n",
    "        y_pred = predictive(rng_key, X=X_pred.reshape((n_grid, 1)))[\"output\"]\n",
    "        \n",
    "        color = colors[1] if f_i < 1 else colors[0]\n",
    "        plt.plot(X_pred, y_pred.mean(axis=0), zorder=1, label=label_str, color=color, linewidth=1)\n",
    "        plt.fill_between(X_pred, y_pred.mean(axis=0).flatten() - y_pred.std(axis=0).flatten(), y_pred.mean(axis=0).flatten() + y_pred.std(axis=0).flatten(), alpha=0.5, zorder=1, color=color, linewidth=0)\n",
    "        plt.fill_between(X_pred, y_pred.mean(axis=0).flatten() - 2 * y_pred.std(axis=0).flatten(), y_pred.mean(axis=0).flatten() + 2 * y_pred.std(axis=0).flatten(), alpha=0.25, zorder=1, color=color, linewidth=0)\n",
    "        plt.fill_between(X_pred, y_pred.mean(axis=0).flatten() - 3 * y_pred.std(axis=0).flatten(), y_pred.mean(axis=0).flatten() + 3 * y_pred.std(axis=0).flatten(), alpha=0.125, zorder=1, color=color, linewidth=0)\n",
    "        plt.scatter(X, y, color=colors[-3], s=5, marker='.', zorder=2)\n",
    "        \n",
    "        plt.title(name_str, fontsize=6)\n",
    "    \n",
    "    # plt.legend(fontsize=5)\n",
    "    plt.xticks([])\n",
    "    plt.yticks([])\n",
    "    plt.ylim((-5, 10))\n",
    "    plt.xlim((-6, 6))\n",
    "    plt.title(title, fontsize=8)\n",
    "            \n",
    "plt.tight_layout(w_pad=0.0)\n",
    "plt.savefig(\"toy_hmc_intro.pdf\", bbox_inches=\"tight\")"
   ]
  },
  {
   "cell_type": "markdown",
   "id": "7d1cfb2a-5a97-4517-b31e-3623cb4a18c6",
   "metadata": {},
   "source": [
    "# more configs plot"
   ]
  },
  {
   "cell_type": "code",
   "execution_count": null,
   "id": "1b1a5fe1-ec0c-42c4-9888-63c797465b60",
   "metadata": {},
   "outputs": [],
   "source": [
    "plt.figure(figsize=(6.75, 1.5), dpi=300)\n",
    "plt.rcParams[\"font.family\"] = \"Times New Roman\"\n",
    "import seaborn as sns\n",
    "colors = sns.color_palette(\"colorblind\")\n",
    "\n",
    "configs = [\n",
    "    ([False, False, False, False], \"MAP (0)\", \"<10s\"),\n",
    "    ([False, False, False, True], \"Output layer (51)\", \"7s\"),\n",
    "    ([True, False, False, False], \"Input layer (100)\", \"837s\"),\n",
    "    ([False, False, True, False], \"Second hidden layer (2550)\", \"89s\"),\n",
    "    ([False, True, False, False], \"First hidden layer (2550)\", \"122s\"),\n",
    "    ([False, False, True, True], \"Last two layers (2601)\", \"151s\"),\n",
    "    ([True, True, True, True], \"All layers (5251)\", \"897s\")\n",
    "]\n",
    "\n",
    "n_grid = 50\n",
    "\n",
    "for f_i, config in enumerate(configs):\n",
    "    flags, title, runtime_str = config\n",
    "    plt.subplot(1, 7, f_i+1)\n",
    "    label_str = f\"Runtime: {runtime_str}\"\n",
    "    if all([f == False for f in flags]):\n",
    "        X_pred = jnp.linspace(-6, 6, 300)\n",
    "        X_pred = X_pred.reshape((300, 1))\n",
    "\n",
    "        y_pred = det_bnn(X_pred, MAP_params)\n",
    "        plt.plot(X_pred, y_pred, color=colors[-3], zorder=1, label=label_str, linewidth=1)\n",
    "        plt.scatter(X, y, color=colors[-3], s=5, marker='.', zorder=2)\n",
    "        plt.title(\"MAP\", fontsize=6)\n",
    "        \n",
    "    else:\n",
    "        mixed_bnn = generate_mixed_bnn(MAP_params, flags, rescale_prior=True)\n",
    "\n",
    "        name_str = \",\".join(\n",
    "        [\"Stoc\" if f else \"Det\" for f in flags]\n",
    "        )\n",
    "        fname = f\"{name_str}_longer_samples_ntk_param_rescale_prior.pkl\"\n",
    "\n",
    "        mcmc_samples = pickle.load(open(fname, \"rb\"))\n",
    "        \n",
    "\n",
    "        X_pred = jnp.linspace(-6, 6, n_grid)\n",
    "        predictive = Predictive(mixed_bnn, mcmc_samples)\n",
    "        y_pred = predictive(rng_key, X=X_pred.reshape((n_grid, 1)))[\"output\"]\n",
    "        \n",
    "        \n",
    "        color = colors[1] if f_i < 6 else colors[0]\n",
    "        plt.plot(X_pred, y_pred.mean(axis=0), zorder=1, label=label_str, color=color, linewidth=1)\n",
    "        plt.fill_between(X_pred, y_pred.mean(axis=0).flatten() - y_pred.std(axis=0).flatten(), y_pred.mean(axis=0).flatten() + y_pred.std(axis=0).flatten(), alpha=0.5, zorder=1, color=color, linewidth=0)\n",
    "        plt.fill_between(X_pred, y_pred.mean(axis=0).flatten() - 2 * y_pred.std(axis=0).flatten(), y_pred.mean(axis=0).flatten() + 2 * y_pred.std(axis=0).flatten(), alpha=0.25, zorder=1, color=color, linewidth=0)\n",
    "        plt.fill_between(X_pred, y_pred.mean(axis=0).flatten() - 3 * y_pred.std(axis=0).flatten(), y_pred.mean(axis=0).flatten() + 3 * y_pred.std(axis=0).flatten(), alpha=0.125, zorder=1, color=color, linewidth=0)\n",
    "        plt.scatter(X, y, color=colors[-3], s=5, marker='.', zorder=2)\n",
    "        \n",
    "        plt.title(name_str, fontsize=6, color=color)\n",
    "    \n",
    "    plt.legend(fontsize=5)\n",
    "    plt.xticks([])\n",
    "    plt.yticks([])\n",
    "    plt.ylim((-5, 10))\n",
    "    plt.xlim((-6, 6))\n",
    "    plt.title(title, fontsize=6)\n",
    "            \n",
    "plt.tight_layout(w_pad=-0.25, h_pad=0)\n",
    "plt.savefig(\"toy_hmc.pdf\", bbox_inches=\"tight\")"
   ]
  },
  {
   "cell_type": "code",
   "execution_count": null,
   "id": "46438671-402b-407e-bc14-1836ada89b2c",
   "metadata": {},
   "outputs": [],
   "source": []
  }
 ],
 "metadata": {
  "kernelspec": {
   "display_name": "Python 3 (ipykernel)",
   "language": "python",
   "name": "python3"
  },
  "language_info": {
   "codemirror_mode": {
    "name": "ipython",
    "version": 3
   },
   "file_extension": ".py",
   "mimetype": "text/x-python",
   "name": "python",
   "nbconvert_exporter": "python",
   "pygments_lexer": "ipython3",
   "version": "3.9.1"
  }
 },
 "nbformat": 4,
 "nbformat_minor": 5
}
