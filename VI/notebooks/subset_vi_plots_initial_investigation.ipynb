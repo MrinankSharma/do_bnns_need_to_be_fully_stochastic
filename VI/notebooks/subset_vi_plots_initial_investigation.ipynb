{
 "cells": [
  {
   "cell_type": "markdown",
   "id": "0c4886ee-e0c4-47a7-907d-ab3722a5f074",
   "metadata": {},
   "source": [
    "# Note: these results are for the initial investigation, and the values were read by eye from the Tensorboard display."
   ]
  },
  {
   "cell_type": "code",
   "execution_count": null,
   "id": "c7b9d392-5616-40b2-ae6a-0769afef5973",
   "metadata": {},
   "outputs": [],
   "source": [
    "all_results = [{'code': 288,\n",
    "  'ece': 0.0407,\n",
    "  'nll': 0.269,\n",
    "  'name': 'ResNet Blocks 5 and 8 Stochastic'},\n",
    " {'code': 127,\n",
    "  'ece': 0.04058,\n",
    "  'nll': 0.2697,\n",
    "  'name': 'Input Layer and ResNet Blocks 1-6 Stochastic'},\n",
    " {'code': 192,\n",
    "  'ece': 0.03934,\n",
    "  'nll': 0.2635,\n",
    "  'name': 'ResNet Blocks 6 and 7 Stochastic'},\n",
    " {'code': 8481,\n",
    "  'ece': 0.03529,\n",
    "  'nll': 0.2538,\n",
    "  'name': 'Input Layer, Output Layer, and ResNet Blocks 5 and 8 Stochastic'},\n",
    " {'code': 1023,\n",
    "  'ece': 0.03525,\n",
    "  'nll': 0.2385,\n",
    "  'name': 'Input Layer and ResNet Blocks 1-9 Stochastic'},\n",
    " {'code': 8385,\n",
    "  'ece': 0.03453,\n",
    "  'nll': 0.2495,\n",
    "  'name': 'Input Layer, Output Layer, and ResNet Blocks 6 and 7 Stochastic'},\n",
    " {'code': 15,\n",
    "  'ece': 0.03453,\n",
    "  'nll': 0.2238,\n",
    "  'name': 'Input Layer and ResNet Blocks 1-3 Stochastic'},\n",
    " {'code': 3,\n",
    "  'ece': 0.03017,\n",
    "  'nll': 0.1955,\n",
    "  'name': 'Input Layer and First ResNet Blocks Stochastic'},\n",
    " {'code': 16383,\n",
    "  'ece': 0.029,\n",
    "  'nll': 0.2113,\n",
    "  'name': 'Fully Stochastic'},\n",
    " {'code': 8191,\n",
    "  'ece': 0.02707,\n",
    "  'nll': 0.2011,\n",
    "  'name': 'All Blocks except Output Layer Stochastic'},\n",
    " {'code': 8192,\n",
    "  'ece': 0.02648,\n",
    "  'nll': 0.1823,\n",
    "  'name': 'Output Layer Stochastic'},\n",
    " {'code': 1,\n",
    "  'ece': 0.02645,\n",
    "  'nll': 0.1821,\n",
    "  'name': 'Input Layer Stochastic'},\n",
    " {'code': 12288,\n",
    "  'ece': 0.02393,\n",
    "  'nll': 0.1657,\n",
    "  'name': 'Output Layer and Last ResNet Block Stochastic'}]"
   ]
  },
  {
   "cell_type": "markdown",
   "id": "fb1a1249-dd0e-46e4-9260-618beec8b53e",
   "metadata": {},
   "source": [
    "# paper plot"
   ]
  },
  {
   "cell_type": "code",
   "execution_count": null,
   "id": "e9faf30d-dacf-4520-a96c-a49097a1660b",
   "metadata": {},
   "outputs": [],
   "source": [
    "import seaborn as sns\n",
    "import matplotlib.pyplot as plt\n",
    "import numpy as np"
   ]
  },
  {
   "cell_type": "code",
   "execution_count": null,
   "id": "2bdcc654-81cf-4d47-a79b-e31dd0ebf3e9",
   "metadata": {},
   "outputs": [],
   "source": [
    "colors = sns.color_palette(\"colorblind\")"
   ]
  },
  {
   "cell_type": "code",
   "execution_count": null,
   "id": "0712b7a9-153e-4618-95a1-7eecadf9fd27",
   "metadata": {},
   "outputs": [],
   "source": [
    "sns.set_theme(style=\"whitegrid\", font=\"Times New Roman\")\n",
    "plt.figure(figsize=(5.5, 2.5), dpi=300)\n",
    "plt.subplot(121)\n",
    "names = [c[\"name\"] for c in all_results]\n",
    "nlls = [c[\"nll\"] for c in all_results]\n",
    "eces = [c[\"ece\"] for c in all_results]\n",
    "plt.barh(-np.arange(len(names)), nlls, color=colors[1])\n",
    "plt.barh([-8], nlls[8], color=colors[0])\n",
    "plt.yticks(-np.arange(len(names)), names, fontsize=8)\n",
    "plt.xlabel(\"NLL ($\\downarrow$)\", fontsize=8)\n",
    "plt.xticks(fontsize=8)\n",
    "\n",
    "for label_i, label in enumerate(plt.gca().get_yticklabels()):\n",
    "    if names[label_i] == \"Fully Stochastic\":\n",
    "        label.set_color(colors[0])\n",
    "    else:\n",
    "        label.set_color(colors[1])\n",
    "\n",
    "plt.subplot(122)\n",
    "plt.barh(-np.arange(len(names)), eces, color=colors[1])\n",
    "plt.barh([-8], eces[8], color=colors[0])\n",
    "plt.yticks(-np.arange(len(names)), [])\n",
    "plt.xlabel(\"ECE ($\\downarrow$)\", fontsize=8)\n",
    "plt.xticks(fontsize=8)\n",
    "\n",
    "plt.tight_layout()\n",
    "plt.savefig(\"vi_more_configs.pdf\", bbox_inches=\"tight\")"
   ]
  }
 ],
 "metadata": {
  "kernelspec": {
   "display_name": "Python 3 (ipykernel)",
   "language": "python",
   "name": "python3"
  },
  "language_info": {
   "codemirror_mode": {
    "name": "ipython",
    "version": 3
   },
   "file_extension": ".py",
   "mimetype": "text/x-python",
   "name": "python",
   "nbconvert_exporter": "python",
   "pygments_lexer": "ipython3",
   "version": "3.9.1"
  }
 },
 "nbformat": 4,
 "nbformat_minor": 5
}
