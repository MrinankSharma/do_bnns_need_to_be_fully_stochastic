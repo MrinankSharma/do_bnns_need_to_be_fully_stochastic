{
 "cells": [
  {
   "cell_type": "code",
   "execution_count": null,
   "id": "151912e2-8b60-44e1-8b7f-61f682d7ee26",
   "metadata": {},
   "outputs": [],
   "source": [
    "from tensorboard.backend.event_processing import event_accumulator\n",
    "import tensorflow as tf\n",
    "\n",
    "import pandas as pd\n",
    "\n",
    "import os\n",
    "import re\n",
    "\n",
    "import seaborn as sns\n",
    "import matplotlib.pyplot as plt\n",
    "import numpy as np"
   ]
  },
  {
   "cell_type": "markdown",
   "id": "cc0c43b6-b64a-4e57-9829-ef736a1eebb8",
   "metadata": {},
   "source": [
    "# CIFAR10 standard (i.e., in distribution)"
   ]
  },
  {
   "cell_type": "code",
   "execution_count": null,
   "id": "4f945791-ed34-4e6f-8369-1a78452ddba9",
   "metadata": {},
   "outputs": [],
   "source": [
    "base_path = \"BASE_DATA_PATH/subset_vi/cifar10_moreseeds\""
   ]
  },
  {
   "cell_type": "code",
   "execution_count": null,
   "id": "5e0deff5-ca3e-4e94-87b3-4776d17dc5de",
   "metadata": {},
   "outputs": [],
   "source": [
    "def code_to_name(code):\n",
    "    if code == \"1\":\n",
    "        return \"Stoc Input\"\n",
    "    elif code == \"0\":\n",
    "        return \"Deterministic\"\n",
    "    elif code == \"8192\":\n",
    "        return \"Stoc Output\"\n",
    "    elif code == \"12288\":\n",
    "        return \"Last 2 Stoc\"\n",
    "    elif code == \"16383\":\n",
    "        return \"All Stoc\""
   ]
  },
  {
   "cell_type": "code",
   "execution_count": null,
   "id": "83790107-6aa6-48a1-a725-03889e44f7fa",
   "metadata": {},
   "outputs": [],
   "source": [
    "def path_to_results(path, stats=None):\n",
    "    if not stats:\n",
    "        stats = [\"test/ece\", \"test/accuracy\", \"test/negative_log_likelihood\"]\n",
    "    ea = event_accumulator.EventAccumulator(\n",
    "        path,\n",
    "        size_guidance={'tensors': 0}\n",
    "    )\n",
    "    ea.Reload()\n",
    "    \n",
    "    results = {}\n",
    "    \n",
    "    for stat in stats:\n",
    "        try:\n",
    "            _, _, val = ea.Tensors(stat)[-1]\n",
    "            val = tf.make_ndarray(val)\n",
    "            results[stat] = float(val)\n",
    "        except:\n",
    "            print(f\"{stat} missing from {path}\")\n",
    "    \n",
    "    return results"
   ]
  },
  {
   "cell_type": "code",
   "execution_count": null,
   "id": "83ad3e00-6ded-4c62-bd07-b5e52b147ea7",
   "metadata": {},
   "outputs": [],
   "source": [
    "# get all events\n",
    "all_results_list = []\n",
    "\n",
    "for subdir, dirs, files in os.walk(base_path):\n",
    "    for f in files:\n",
    "        if \".tfevent\" in f:\n",
    "            code_seed = re.search(\"[0-9]+_[0-9]+\", subdir).group()\n",
    "            code, seed = code_seed.split('_')\n",
    "            \n",
    "            events_file = os.path.join(subdir, f)\n",
    "            results = path_to_results(events_file)\n",
    "            all_results_list.append({**{\n",
    "                \"code\": code,\n",
    "                \"seed\": seed,\n",
    "                \"model_name\": code_to_name(code),\n",
    "            }, **results})\n",
    "\n",
    "all_results_df = pd.DataFrame(all_results_list)"
   ]
  },
  {
   "cell_type": "code",
   "execution_count": null,
   "id": "7cb7b85f-b1d1-4ddd-beb0-0d7a3bc81729",
   "metadata": {},
   "outputs": [],
   "source": [
    "all_results_df[\"test/ece\"] = 100*all_results_df[\"test/ece\"]\n",
    "all_results_df[\"test/accuracy\"] = 100*all_results_df[\"test/accuracy\"]"
   ]
  },
  {
   "cell_type": "code",
   "execution_count": null,
   "id": "a3015407-5841-4e6d-98c9-63cf3bf1df5f",
   "metadata": {},
   "outputs": [],
   "source": [
    "all_results_df.to_csv(\"cifar10_all_results_df.csv\")"
   ]
  },
  {
   "cell_type": "markdown",
   "id": "d354d61e-6aef-4848-9fdb-2522f1cfbb50",
   "metadata": {},
   "source": [
    "# CIFAR100 Standard"
   ]
  },
  {
   "cell_type": "code",
   "execution_count": null,
   "id": "b7955913-cd55-4488-b9e3-4bcfbd357917",
   "metadata": {},
   "outputs": [],
   "source": [
    "base_path = \"BASE_DATA_PATH/subset_vi/cifar100_moreseeds\""
   ]
  },
  {
   "cell_type": "code",
   "execution_count": null,
   "id": "5a58d955-45af-4a87-a4c0-ccf70a936fb3",
   "metadata": {},
   "outputs": [],
   "source": [
    "# get all events\n",
    "all_results_list = []\n",
    "\n",
    "for subdir, dirs, files in os.walk(base_path):\n",
    "    for f in files:\n",
    "        if \".tfevent\" in f:\n",
    "            code_seed = re.search(\"[0-9]+_[0-9]+\", subdir).group()\n",
    "            code, seed = code_seed.split('_')\n",
    "            \n",
    "            events_file = os.path.join(subdir, f)\n",
    "            results = path_to_results(events_file)\n",
    "            all_results_list.append({**{\n",
    "                \"code\": code,\n",
    "                \"seed\": seed,\n",
    "                \"model_name\": code_to_name(code),\n",
    "            }, **results})\n",
    "\n",
    "all_results_df = pd.DataFrame(all_results_list)"
   ]
  },
  {
   "cell_type": "code",
   "execution_count": null,
   "id": "fe84987d-8b3d-46da-bce1-a0ede4baa59d",
   "metadata": {},
   "outputs": [],
   "source": [
    "all_results_df[\"test/ece\"] = 100*all_results_df[\"test/ece\"]\n",
    "all_results_df[\"test/accuracy\"] = 100*all_results_df[\"test/accuracy\"]"
   ]
  },
  {
   "cell_type": "code",
   "execution_count": null,
   "id": "c34697ae-57b8-441c-9d50-1ef41dccd3e6",
   "metadata": {},
   "outputs": [],
   "source": [
    "all_results_df.to_csv(\"cifar100_all_results_df.csv\")"
   ]
  }
 ],
 "metadata": {
  "kernelspec": {
   "display_name": "Python 3 (ipykernel)",
   "language": "python",
   "name": "python3"
  },
  "language_info": {
   "codemirror_mode": {
    "name": "ipython",
    "version": 3
   },
   "file_extension": ".py",
   "mimetype": "text/x-python",
   "name": "python",
   "nbconvert_exporter": "python",
   "pygments_lexer": "ipython3",
   "version": "3.9.1"
  }
 },
 "nbformat": 4,
 "nbformat_minor": 5
}